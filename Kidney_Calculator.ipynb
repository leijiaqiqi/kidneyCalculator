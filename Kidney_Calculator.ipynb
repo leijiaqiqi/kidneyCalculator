{
  "nbformat": 4,
  "nbformat_minor": 0,
  "metadata": {
    "colab": {
      "provenance": []
    },
    "kernelspec": {
      "name": "python3",
      "display_name": "Python 3"
    },
    "language_info": {
      "name": "python"
    }
  },
  "cells": [
    {
      "cell_type": "markdown",
      "source": [
        "### Calculator"
      ],
      "metadata": {
        "id": "oH8iiIgl2ohC"
      }
    },
    {
      "cell_type": "code",
      "source": [],
      "metadata": {
        "id": "DMiaukPk3S_p"
      },
      "execution_count": null,
      "outputs": []
    },
    {
      "cell_type": "code",
      "source": [
        "\n",
        "import openpyxl\n",
        "import numpy as np\n",
        "import copy\n",
        "import math\n",
        "\n",
        "##read data from Excel\n",
        "wb = openpyxl.load_workbook('test_calculator1.xlsx',data_only=True)"
      ],
      "metadata": {
        "id": "u7NKTi2Y7KET",
        "colab": {
          "base_uri": "https://localhost:8080/"
        },
        "outputId": "5d3906c5-0fd5-47e6-f490-3d533f40be77"
      },
      "execution_count": null,
      "outputs": [
        {
          "output_type": "stream",
          "name": "stderr",
          "text": [
            "/usr/local/lib/python3.10/dist-packages/openpyxl/worksheet/_reader.py:312: UserWarning: Data Validation extension is not supported and will be removed\n",
            "  warn(msg)\n"
          ]
        }
      ]
    },
    {
      "cell_type": "code",
      "source": [
        "## for temporary test\n",
        "'''\n",
        "coe ={}\n",
        "sheet_Profile1 = wb['Profile1']\n",
        "first_column = sheet_Profile1['AG']\n",
        "\n",
        "# Print the contents\n",
        "for x in range(2,6): \n",
        "  print(first_column[x].value) \n",
        "'''"
      ],
      "metadata": {
        "colab": {
          "base_uri": "https://localhost:8080/"
        },
        "id": "089TsI8avmHr",
        "outputId": "99a8209f-2857-4a45-8220-68d8f7215ff5"
      },
      "execution_count": null,
      "outputs": [
        {
          "output_type": "stream",
          "name": "stdout",
          "text": [
            "2.4632\n",
            "1.561\n",
            "-0.9545\n",
            "-1.3055\n"
          ]
        }
      ]
    },
    {
      "cell_type": "code",
      "source": [
        "def readKidneyData(wb):\n",
        "  ## read data related to kidney\n",
        "  sheet_Input = wb['Profile Input']\n",
        "  sheet_Profile1 = wb['Profile1']\n",
        "\n",
        "  ##read low, regular, waiting time\n",
        "  low_function = [sheet_Input['B4'].value,sheet_Input['C4'].value]\n",
        "  regular_function = [sheet_Input['B5'].value,sheet_Input['C5'].value]\n",
        "  waiting = [sheet_Input['B7'].value,sheet_Input['C7'].value]\n",
        "\n",
        "  ## read coefficients (should I read the original data??)\n",
        "  coe_kidney={}\n",
        "  coe_kidney[8,5]=sheet_Profile1['C2'].value\n",
        "  coe_kidney[5,5]=sheet_Profile1['C3'].value\n",
        "  coe_kidney[3,5]=sheet_Profile1['C4'].value\n",
        "  coe_kidney[2,5]=sheet_Profile1['C5'].value\n",
        "\n",
        "  coe_kidney[8,3]=sheet_Profile1['F2'].value\n",
        "  coe_kidney[5,3]=sheet_Profile1['F3'].value\n",
        "  coe_kidney[3,3]=sheet_Profile1['F4'].value\n",
        "  coe_kidney[2,3]=sheet_Profile1['F5'].value\n",
        "\n",
        "  coe_kidney[8,2]=sheet_Profile1['I2'].value\n",
        "  coe_kidney[5,2]=sheet_Profile1['I3'].value\n",
        "  coe_kidney[3,2]=sheet_Profile1['I4'].value\n",
        "  coe_kidney[2,2]=sheet_Profile1['I5'].value\n",
        "\n",
        "  coe_kidney['waiting']=sheet_Profile1['L2'].value\n",
        "\n",
        "  return low_function,regular_function,waiting,coe_kidney\n"
      ],
      "metadata": {
        "id": "6TQ3Ovu15U87"
      },
      "execution_count": null,
      "outputs": []
    },
    {
      "cell_type": "code",
      "source": [
        "def kidney_preference(coe,low_function,regular_function,waiting):\n",
        "  time_list = [8,5,3,2]\n",
        "  degree = 4\n",
        "  preference_weight=[]\n",
        "  for j in range(2):\n",
        "    ##Generating weights for regular function based on low function level selected for profile \n",
        "    coe_between={}\n",
        "    for t in time_list:\n",
        "      if low_function[j] >3:\n",
        "        coe_between[t,3,5] = coe[t,5]*(low_function[j]-3)/2+coe[t,3]*(1-(low_function[j]-3)/2)\n",
        "        coe_between[t,2,3] = 0\n",
        "      else:\n",
        "        coe_between[t,3,5] = 0\n",
        "        coe_between[t,2,3] = coe[t,3]*(low_function[j]-2)+coe[t,2]*(1-(low_function[j]-2))\n",
        "    Y_35 = []\n",
        "    Y_23 = []\n",
        "    for t in time_list:\n",
        "      Y_35.append(coe_between[t,3,5])\n",
        "      Y_23.append(coe_between[t,2,3])\n",
        "    ## beta of trendlines\n",
        "    X_matrix = []\n",
        "    for i in time_list:\n",
        "      X_row = []\n",
        "      for d in range(degree):\n",
        "        X_row.append(i**d)\n",
        "      X_matrix.append(X_row)\n",
        "    beta_23 = np.dot(np.linalg.inv(np.dot(np.transpose(X_matrix),X_matrix)),np.dot(np.transpose(X_matrix),Y_23))\n",
        "    beta_35 = np.dot(np.linalg.inv(np.dot(np.transpose(X_matrix),X_matrix)),np.dot(np.transpose(X_matrix),Y_35))\n",
        "    ## generate preference weight for the specific regular function, waiting and low function\n",
        "    preference_weight.append(sum(beta_23[i]*regular_function[j]**i for i in range(degree)) + sum(beta_35[i]*regular_function[j]**i for i in range(degree)) + waiting[j]*coe['waiting'])\n",
        "  \n",
        "  ## calculate the probability of accepting one kidney compared to another\n",
        "  accept_probability_kidney_1 = math.exp(preference_weight[0]-preference_weight[1])/(1+math.exp(preference_weight[0]-preference_weight[1]))\n",
        "  accept_probability_kidney = [accept_probability_kidney_1,1- accept_probability_kidney_1]\n",
        "  return preference_weight,accept_probability_kidney"
      ],
      "metadata": {
        "id": "YRiqOsFbqWa8"
      },
      "execution_count": null,
      "outputs": []
    },
    {
      "cell_type": "code",
      "source": [
        "low_function,regular_function,waiting,coe_kidney = readKidneyData(wb)\n",
        "preference_weight,accept_probability_kidney = kidney_preference(coe_kidney,low_function,regular_function,waiting)\n",
        "print(\"probability of accepting kidney 1:\", accept_probability_kidney[0])\n",
        "print(\"probability of accepting kidney 2:\", accept_probability_kidney[1])"
      ],
      "metadata": {
        "colab": {
          "base_uri": "https://localhost:8080/"
        },
        "id": "K7ZV9ss6rhR2",
        "outputId": "7b212bee-57e2-4b96-fc69-cb6153f76b8e"
      },
      "execution_count": null,
      "outputs": [
        {
          "output_type": "stream",
          "name": "stdout",
          "text": [
            "probability of accepting kidney 1: 0.1349690388077945\n",
            "probability of accepting kidney 2: 0.8650309611922055\n"
          ]
        }
      ]
    },
    {
      "cell_type": "code",
      "source": [
        "def readPysicianData(wb):\n",
        "  ## read data related to physician\n",
        "  sheet_Input = wb['Profile Input']\n",
        "  sheet_PhysicianInfo = wb['Physician information']\n",
        "  coe={}\n",
        "  coe['ejection']=[sheet_PhysicianInfo['C11'].value,sheet_PhysicianInfo['C12'].value]\n",
        "  coe['hla']= [sheet_PhysicianInfo['C14'].value,sheet_PhysicianInfo['C15'].value]\n",
        "  coe['sensitization'] = [sheet_PhysicianInfo['C17'].value,sheet_PhysicianInfo['C18'].value,sheet_PhysicianInfo['C19'].value]\n",
        "  coe['age']=[sheet_PhysicianInfo['C25'].value,sheet_PhysicianInfo['C26'].value,sheet_PhysicianInfo['C27'].value]\n",
        "  coe['dialysis']=[sheet_PhysicianInfo['C29'].value,sheet_PhysicianInfo['C30'].value,sheet_PhysicianInfo['C31'].value]\n",
        "  coe['coldtime'] = sheet_PhysicianInfo['C6'].value\n",
        "\n",
        "  para_list = {}\n",
        "  para_list['ejection']=[sheet_PhysicianInfo['B11'].value,sheet_PhysicianInfo['B12'].value]\n",
        "  para_list['hla'] = [sheet_PhysicianInfo['D40'].value,sheet_PhysicianInfo['D41'].value] ##upper table is string, so read the lower table\n",
        "  para_list['sensitization'] = [sheet_PhysicianInfo['B17'].value,sheet_PhysicianInfo['B18'].value,sheet_PhysicianInfo['B19'].value]\n",
        "  para_list['age'] = [sheet_PhysicianInfo['B25'].value,sheet_PhysicianInfo['B26'].value,sheet_PhysicianInfo['B27'].value]\n",
        "  para_list['dialysis'] = [sheet_PhysicianInfo['D51'].value,sheet_PhysicianInfo['D52'].value,sheet_PhysicianInfo['D53'].value]##upper table is string, so read the lower table\n",
        "\n",
        "\n",
        "  physican_input = {}\n",
        "  physican_input['ejection']=sheet_Input['B16'].value\n",
        "  physican_input['hla'] = sheet_Input['B17'].value\n",
        "  physican_input['sensitization'] = sheet_Input['B18'].value\n",
        "  physican_input['age'] = sheet_Input['B15'].value\n",
        "  physican_input['dialysis'] = sheet_Input['B19'].value\n",
        "\n",
        "  ##input that no need OLS\n",
        "  physican_input['KDPI'] = [sheet_Input['F5'].value,sheet_Input['G5'].value]\n",
        "  physican_input['diabetes'] = sheet_Input['B13'].value\n",
        "  physican_input['performance'] = sheet_Input['B14'].value[0] #cannot compare the string with changed lines, so here I just compare the first letter\n",
        "\n",
        "  return coe,para_list, physican_input\n"
      ],
      "metadata": {
        "id": "oGN3yr9goSgB"
      },
      "execution_count": null,
      "outputs": []
    },
    {
      "cell_type": "code",
      "source": [
        "def physician_preference(coe,para_list,physican_input): \n",
        "  category_list = ['ejection','hla','sensitization','age','dialysis']\n",
        "  degree_list = {}\n",
        "  degree_list['ejection']=2\n",
        "  degree_list['hla'] = 2\n",
        "  degree_list['sensitization'] = 3\n",
        "  degree_list['age'] = 3\n",
        "  degree_list['dialysis'] = 3\n",
        "  beta = {}\n",
        "  preference_weight = {}\n",
        "  ## calculate preference weights for some categories\n",
        "  for i in category_list:\n",
        "    X_matrix = []\n",
        "    for j in range(degree_list[i]):\n",
        "      X_row = []\n",
        "      for d in range(degree_list[i]):\n",
        "        X_row.append(para_list[i][j]**d)\n",
        "      X_matrix.append(X_row)\n",
        "    beta[i] = np.dot(np.linalg.inv(np.dot(np.transpose(X_matrix),X_matrix)),np.dot(np.transpose(X_matrix),coe[i]))\n",
        "    preference_weight[i]= sum(beta[i][d]*physican_input[i]**d for d in range(degree_list[i]))\n",
        "  \n",
        "  ## read preference weights that don't need OLS\n",
        "  for j in range(2):\n",
        "    if physican_input['KDPI'][j]>7:\n",
        "      preference_weight['KDPI',j]=2.617\n",
        "    else:\n",
        "      preference_weight['KDPI',j]=-1.041\n",
        "  \n",
        "\n",
        "  if physican_input['diabetes'] == 'No diabetes':\n",
        "    preference_weight['diabetes']= 2.768\n",
        "  if physican_input['diabetes'] == 'Yes, but not insulin dependent':\n",
        "    preference_weight['diabetes']= 2.647\n",
        "  if physican_input['diabetes'] == 'Insulin dependent, but less than 10 years':\n",
        "    preference_weight['diabetes']= -5.415\n",
        "\n",
        "  if physican_input['performance'] == 'N':\n",
        "    preference_weight['performance']= 0.062\n",
        "  if physican_input['performance'] == 'R':\n",
        "    preference_weight['performance']= -0.195\n",
        "  if physican_input['performance'] == 'C':\n",
        "    preference_weight['performance']= 0.133\n",
        "  \n",
        "  ## calculate weights by sum up weights from different categories\n",
        "  preference_weight_all = [sum(preference_weight[i] for i in category_list)+ preference_weight['KDPI',j]+preference_weight['diabetes']+preference_weight['performance'] for j in range(2)]\n",
        "  preference_weight_20cold = [preference_weight_all[j] + 20*coe['coldtime'] for j in range(2)]\n",
        "  ## calculate acceptance probability\n",
        "  acceptance = [math.exp(preference_weight_all[j])/(math.exp(preference_weight_all[j])+1) for j in range(2)]\n",
        "  acceptance_20cold = [math.exp(preference_weight_20cold[j])/(math.exp(preference_weight_20cold[j])+1) for j in range(2)]\n",
        "\n",
        "  return acceptance,acceptance_20cold"
      ],
      "metadata": {
        "id": "13swuaNuxJYG"
      },
      "execution_count": null,
      "outputs": []
    },
    {
      "cell_type": "code",
      "source": [
        "coe,para_list,physican_input = readPysicianData(wb)\n",
        "acceptance,acceptance_20cold=physician_preference(coe,para_list,physican_input)\n",
        "print(\"Chance of acceptance with 20 hrs of cold ischemia time of kidney 2:\",acceptance_20cold[1]) ## Excel only reports the kidney accpetance chance"
      ],
      "metadata": {
        "colab": {
          "base_uri": "https://localhost:8080/"
        },
        "id": "BojSIsuFORaC",
        "outputId": "84ec6135-5c96-471a-e5ae-b2148e071c26"
      },
      "execution_count": null,
      "outputs": [
        {
          "output_type": "stream",
          "name": "stdout",
          "text": [
            "Chance of acceptance with 20 hrs of cold ischemia time of kidney 2: 0.9610242845400692\n"
          ]
        }
      ]
    }
  ]
}